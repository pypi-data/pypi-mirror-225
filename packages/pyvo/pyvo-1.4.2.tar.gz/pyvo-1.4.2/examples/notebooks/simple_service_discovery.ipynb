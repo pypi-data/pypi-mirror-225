{
 "cells": [
  {
   "cell_type": "code",
   "execution_count": null,
   "metadata": {},
   "outputs": [],
   "source": [
    "import pyvo as vo"
   ]
  },
  {
   "cell_type": "markdown",
   "metadata": {},
   "source": [
    "The most common use of the registry is to find archives with \n",
    "`VO data access services`, and the simplest way\n",
    "to do this is to use the \n",
    "`~pyvo.regsearch` function.  For example, to find data\n",
    "collections that contain searchable X-ray images:"
   ]
  },
  {
   "cell_type": "code",
   "execution_count": null,
   "metadata": {},
   "outputs": [],
   "source": [
    "services = vo.regsearch(servicetype='sia', waveband='x-ray')\n",
    "len(services)"
   ]
  },
  {
   "cell_type": "markdown",
   "metadata": {},
   "source": [
    "Aha! Perhaps you didn't realize there were that many.\n",
    "What collections are these?"
   ]
  },
  {
   "cell_type": "code",
   "execution_count": null,
   "metadata": {},
   "outputs": [],
   "source": [
    "for service in services:\n",
    "    print(service.res_title)"
   ]
  },
  {
   "cell_type": "markdown",
   "metadata": {},
   "source": [
    "As you can gather, each record in the registry search results\n",
    "represents a different service (in this case, an image service).\n",
    "Included in the record is the all-important base URL for the service:"
   ]
  },
  {
   "cell_type": "code",
   "execution_count": null,
   "metadata": {},
   "outputs": [],
   "source": [
    "print(services[0].access_url)"
   ]
  },
  {
   "cell_type": "markdown",
   "metadata": {},
   "source": [
    "However, it's not necessary to keep track of that URL because you can\n",
    "now search that collection directly via the registry record:"
   ]
  },
  {
   "cell_type": "code",
   "execution_count": null,
   "metadata": {},
   "outputs": [],
   "source": [
    "images = services[0].search(pos=(350.85, 58.815), size=0.25)\n",
    "len(images)"
   ]
  },
  {
   "cell_type": "markdown",
   "metadata": {},
   "source": [
    "Other types of services via the ``servicetype`` parameter:\n",
    "\n",
    "| set ``servicetype`` to... | ...to find:\n",
    "| ------------------------- | -------------------------------------\n",
    "| sia                       | Simple Image Access (SIA) services\n",
    "| ssa                       | Simple Spectral Access (SSA) services\n",
    "| scs                       | Simple Cone Search (SCS) services\n",
    "| slap                      | Simple Line Access (SLA) services\n",
    "| tap                       | Table Access Protocol (TAP) services\n",
    "\n",
    "For example, to find all known Cone Search services:"
   ]
  },
  {
   "cell_type": "code",
   "execution_count": null,
   "metadata": {},
   "outputs": [],
   "source": [
    "cats = vo.regsearch(servicetype='conesearch')\n",
    "len(cats)"
   ]
  },
  {
   "cell_type": "markdown",
   "metadata": {},
   "source": [
    "Wow, that's a lot of catalogs.  (Most of these are from the\n",
    "`Vizier Catalog Archive <http://vizier.u-strasbg.fr/viz-bin/VizieR>`)\n",
    "every Vizier catalog that includes a position is available as a Cone\n",
    "Search service.)  For just catalogs related to blazars:"
   ]
  },
  {
   "cell_type": "code",
   "execution_count": null,
   "metadata": {},
   "outputs": [],
   "source": [
    "cats = vo.regsearch(keywords=['blazar'], servicetype='conesearch')\n",
    "len(cats)"
   ]
  },
  {
   "cell_type": "markdown",
   "metadata": {},
   "source": [
    "How about blazars observed with Fermi?"
   ]
  },
  {
   "cell_type": "code",
   "execution_count": null,
   "metadata": {},
   "outputs": [],
   "source": [
    "cats = vo.regsearch(keywords=['blazar', 'Fermi'], servicetype='conesearch')\n",
    "len(cats)"
   ]
  },
  {
   "cell_type": "markdown",
   "metadata": {},
   "source": [
    "Sometimes you may be looking for a particular catalog or image collections\n",
    "that you already know exists, and you just need to learn the base URL\n",
    "for the service.  The ``keywords`` parameter can be used to find it.\n",
    "For example, suppose you want to get cutout images from the NRAO VLA\n",
    "Sky Survey (NVSS):"
   ]
  },
  {
   "cell_type": "code",
   "execution_count": null,
   "metadata": {},
   "outputs": [],
   "source": [
    "colls = vo.regsearch(keywords=[\"NVSS\"], servicetype='sia')\n",
    "for coll in colls:\n",
    "    print(coll.res_title)"
   ]
  },
  {
   "cell_type": "markdown",
   "metadata": {},
   "source": [
    "More powerful than a cone search is a generic TAP service.  These services optionally provide helpful information on how to use them.  First, let's see what services are available that serve NASA data:"
   ]
  },
  {
   "cell_type": "code",
   "execution_count": null,
   "metadata": {},
   "outputs": [],
   "source": [
    "taps = vo.regsearch(servicetype='tap',keywords=['HEASARC'])\n",
    "for tapsvc in taps:\n",
    "    tapsvc.describe()\n",
    "    print(\"---------\")"
   ]
  },
  {
   "cell_type": "markdown",
   "metadata": {},
   "source": [
    "Then we need to find out what tables each service serves, because each *may* server many.  "
   ]
  },
  {
   "cell_type": "code",
   "execution_count": null,
   "metadata": {},
   "outputs": [],
   "source": [
    "tables=taps[0].service.tables\n",
    "for table in tables:\n",
    "    table.describe()"
   ]
  },
  {
   "cell_type": "markdown",
   "metadata": {},
   "source": [
    "You can see example queries if the service offers them.  This .examples method returns a TAPQuery object that can be executed.  "
   ]
  },
  {
   "cell_type": "code",
   "execution_count": null,
   "metadata": {},
   "outputs": [],
   "source": [
    "for example in taps[0].service.examples:\n",
    "    print(example['QUERY'])\n",
    "    result=example.execute()\n",
    "    break\n",
    "result.to_table()"
   ]
  },
  {
   "cell_type": "markdown",
   "metadata": {},
   "source": [
    "And for each table, you can find out the available columns:"
   ]
  },
  {
   "cell_type": "code",
   "execution_count": null,
   "metadata": {},
   "outputs": [],
   "source": [
    "print(\"Columns={}\".format(sorted([k.name for k in tables['a1'].columns ])))"
   ]
  },
  {
   "cell_type": "code",
   "execution_count": null,
   "metadata": {},
   "outputs": [],
   "source": []
  }
 ],
 "metadata": {
  "kernelspec": {
   "display_name": "Python 3",
   "language": "python",
   "name": "python3"
  },
  "language_info": {
   "codemirror_mode": {
    "name": "ipython",
    "version": 3
   },
   "file_extension": ".py",
   "mimetype": "text/x-python",
   "name": "python",
   "nbconvert_exporter": "python",
   "pygments_lexer": "ipython3",
   "version": "3.6.7"
  }
 },
 "nbformat": 4,
 "nbformat_minor": 1
}
