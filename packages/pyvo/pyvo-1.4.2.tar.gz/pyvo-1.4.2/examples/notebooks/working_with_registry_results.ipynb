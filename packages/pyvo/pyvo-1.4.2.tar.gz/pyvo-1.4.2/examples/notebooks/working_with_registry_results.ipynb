{
 "cells": [
  {
   "cell_type": "markdown",
   "metadata": {},
   "source": [
    "As you can see from the examples in simple_service_discovery,\n",
    "a search will often return more than one record,\n",
    "and so sometimes you need to review some of the\n",
    "resource metadata to determine which one or ones you want.  You may\n",
    "have noticed that the results behave similarly to the results from the\n",
    "data access services. Like them, registry search results are returned\n",
    "as a `~pyvo.registry.regtap.RegistryResults` instance, and each\n",
    "record is represented as a `~pyvo.registry.regtap.RegistryResource` instance. "
   ]
  },
  {
   "cell_type": "code",
   "execution_count": null,
   "metadata": {},
   "outputs": [],
   "source": [
    "import pyvo as vo\n",
    "colls = vo.regsearch(keywords=[\"NVSS\"], servicetype='sia')\n",
    "nvss = colls[0]\n",
    "nvss.res_title"
   ]
  },
  {
   "cell_type": "markdown",
   "metadata": {},
   "source": [
    "If you are looking for a particular data collection or catalog, as we\n",
    "did above when we looked for the NVSS archive, often simply reviewing\n",
    "the titles is sufficient.  Other times, particularly when you are not\n",
    "sure what you are looking for, it helps to look deeper.  \n",
    "\n",
    "The resource description, available via the \n",
    "`~pyvo.registry.regtap.ResourceRecord.res_description` property,\n",
    "tends to be the most revealing.  It contains a paragraph (or two)\n",
    "summarizing the catalog or data collection.  It will often describe\n",
    "the scientific intent behind the collection.  \n",
    "\n",
    "The `~pyvo.registry.regtap.RegistryResource.short_name` can also be\n",
    "helpful, as well.  This name is meant to be short--16 characters or\n",
    "fewer; consequently, the value is often includes the abbreviation for the\n",
    "project or observatory that produced the collection or catalog.  \n",
    "\n",
    "A selection of the resource metadata, including the title, shortname and\n",
    "desription, can be printed out in a summary form with\n",
    "the `~pyvo.registry.regtap.RegistryResource.describe` function."
   ]
  },
  {
   "cell_type": "code",
   "execution_count": null,
   "metadata": {},
   "outputs": [],
   "source": [
    "nvss.describe()"
   ]
  },
  {
   "cell_type": "markdown",
   "metadata": {},
   "source": [
    "Registry Records can be converted to a service object that can be queried.  "
   ]
  },
  {
   "cell_type": "code",
   "execution_count": null,
   "metadata": {},
   "outputs": [],
   "source": [
    "nvss = colls[0].service  # converts record to service object\n",
    "nvss.search(pos=(350.85, 58.815),size=0.25,format=\"image/fits\").to_table()"
   ]
  },
  {
   "cell_type": "markdown",
   "metadata": {},
   "source": [
    "Thus, not only does this service instance contain the base URL but it\n",
    "also includes all of the metadata from the registry that desribes the\n",
    "service.  With this service object, we can either call its \n",
    "`~pyvo.dal.sia.SIAService.search` function directly as above, or \n",
    "create query objects to get cutouts for a whole list of sources."
   ]
  },
  {
   "cell_type": "code",
   "execution_count": null,
   "metadata": {},
   "outputs": [],
   "source": [
    "cutouts1 = nvss.search(pos=(148.8888, 69.065), size=0.2)\n",
    "nvssq = nvss.create_query(size=0.2)  # or create a query object\n",
    "nvssq.pos = (350.85, 58.815)\n",
    "cutouts2 = nvssq.execute()"
   ]
  },
  {
   "cell_type": "markdown",
   "metadata": {},
   "source": [
    "Our discussion of service metadata offers an opportunity to highlight\n",
    "another important property, the service's *IVOA Identifier* (sometimes\n",
    "referred to as its *ivoid*).  This is a globally-unique identifier\n",
    "that takes the form of a \n",
    "`URI <http://en.wikipedia.org/wiki/Uniform_resource_identifier>`_:"
   ]
  },
  {
   "cell_type": "code",
   "execution_count": null,
   "metadata": {},
   "outputs": [],
   "source": [
    "colls = vo.regsearch(keywords=[\"NVSS\"], servicetype='sia')\n",
    "for coll in colls:\n",
    "    print(coll.ivoid)"
   ]
  },
  {
   "cell_type": "markdown",
   "metadata": {},
   "source": [
    "This identifier can be used to retrieve a specific service from the registry.  "
   ]
  },
  {
   "cell_type": "code",
   "execution_count": null,
   "metadata": {},
   "outputs": [],
   "source": [
    "nvss = vo.registry.ivoid2service('ivo://nasa.heasarc/skyview/nvss',servicetype='sia')\n",
    "nvss.search(pos=(350.85, 58.815),size=0.25,format=\"image/fits\").to_table()"
   ]
  },
  {
   "cell_type": "markdown",
   "metadata": {},
   "source": [
    "As we end this discussion of the service objects, you can hopefully\n",
    "see that there is a straight-forward chain of discovery classes that\n",
    "connect the registry down through to a dataset.  Spelled out in all\n",
    "its detail, it looks like this:"
   ]
  },
  {
   "cell_type": "code",
   "execution_count": null,
   "metadata": {},
   "outputs": [],
   "source": [
    "services = vo.regsearch(keywords=[\"NVSS\"],\n",
    "                        servicetype='sia') \n",
    "nvss_resource = services[0]\n",
    "nvss_service = nvss_resource.service \n",
    "nvss_query = nvss_service.create_query(pos=(350.85, 58.815),\n",
    "                      size=0.25, \n",
    "                      format=\"image/fits\")\n",
    "images = nvss_query.execute()\n",
    "firstim = images[0]\n",
    "\n",
    "print(type(services))\n",
    "print(type(nvss_resource))\n",
    "print(type(nvss_service))\n",
    "print(type(nvss_query))\n",
    "print(type(images))\n",
    "print(type(firstim))"
   ]
  },
  {
   "cell_type": "markdown",
   "metadata": {},
   "source": [
    "Most of the time, it's not necessary to follow all these steps\n",
    "yourself, so there are functions and methods that provide syntactic\n",
    "shortcuts.  However, when you need some finer control over the\n",
    "process, it is possible to jump off the fast track and work directly\n",
    "with an underlying object.  "
   ]
  }
 ],
 "metadata": {
  "kernelspec": {
   "display_name": "Python 3",
   "language": "python",
   "name": "python3"
  },
  "language_info": {
   "codemirror_mode": {
    "name": "ipython",
    "version": 3
   },
   "file_extension": ".py",
   "mimetype": "text/x-python",
   "name": "python",
   "nbconvert_exporter": "python",
   "pygments_lexer": "ipython3",
   "version": "3.6.7"
  }
 },
 "nbformat": 4,
 "nbformat_minor": 1
}
