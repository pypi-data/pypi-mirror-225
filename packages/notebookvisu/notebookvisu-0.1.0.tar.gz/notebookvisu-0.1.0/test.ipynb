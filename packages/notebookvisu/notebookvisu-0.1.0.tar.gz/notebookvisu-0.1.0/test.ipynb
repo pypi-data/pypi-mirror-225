{
 "cells": [
  {
   "cell_type": "markdown",
   "id": "da4440f9-7681-47a8-a381-7e004adf7964",
   "metadata": {
    "tags": []
   },
   "source": [
    "# Title 1\n",
    "intro\n",
    "## Subtitle 1\n",
    "## Subtitle 2"
   ]
  },
  {
   "cell_type": "markdown",
   "id": "7d7ed742-a645-4969-8ea4-5772ce2771f5",
   "metadata": {
    "tags": []
   },
   "source": [
    "<h1>HTML Title</h1>\n",
    "<h2>HTML Subtitle 1</h2>\n",
    "<h2>HTML Subtitle 2</h2>"
   ]
  },
  {
   "cell_type": "code",
   "execution_count": 1,
   "id": "5cd79a34-e6b5-4b9b-a50e-a6133c3fddfb",
   "metadata": {
    "tags": []
   },
   "outputs": [],
   "source": [
    "import time"
   ]
  },
  {
   "cell_type": "code",
   "execution_count": 2,
   "id": "a34f1072-dcd1-4727-861c-65f20d698804",
   "metadata": {
    "tags": []
   },
   "outputs": [],
   "source": [
    "time.sleep(1)"
   ]
  },
  {
   "cell_type": "markdown",
   "id": "fc2e0c09-b305-460e-b2de-d9479ddd7d25",
   "metadata": {
    "tags": []
   },
   "source": [
    "## Subtitle 3"
   ]
  },
  {
   "cell_type": "code",
   "execution_count": 5,
   "id": "c4e9d9d1-fcfc-43d7-9f32-d259aa264246",
   "metadata": {},
   "outputs": [
    {
     "data": {
      "text/plain": [
       "0"
      ]
     },
     "execution_count": 5,
     "metadata": {},
     "output_type": "execute_result"
    }
   ],
   "source": [
    "def f() :\n",
    "    a = 0\n",
    "    for i in range(4):\n",
    "        a + 2\n",
    "        if (a > 4) :\n",
    "            break\n",
    "            \n",
    "    return a\n",
    "f()"
   ]
  },
  {
   "cell_type": "code",
   "execution_count": 6,
   "id": "1e053c48-9ccd-4161-baf4-d70c91f902cc",
   "metadata": {
    "tags": []
   },
   "outputs": [],
   "source": [
    "import random"
   ]
  }
 ],
 "metadata": {
  "kernelspec": {
   "display_name": "Python 3 (ipykernel)",
   "language": "python",
   "name": "python3"
  },
  "language_info": {
   "codemirror_mode": {
    "name": "ipython",
    "version": 3
   },
   "file_extension": ".py",
   "mimetype": "text/x-python",
   "name": "python",
   "nbconvert_exporter": "python",
   "pygments_lexer": "ipython3",
   "version": "3.11.4"
  },
  "toc-autonumbering": false,
  "toc-showcode": false,
  "toc-showmarkdowntxt": false,
  "toc-showtags": false
 },
 "nbformat": 4,
 "nbformat_minor": 5
}
