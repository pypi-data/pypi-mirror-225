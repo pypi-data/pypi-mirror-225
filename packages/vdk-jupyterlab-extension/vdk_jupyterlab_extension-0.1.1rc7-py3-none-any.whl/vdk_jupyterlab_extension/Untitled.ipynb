{
 "cells": [
  {
   "cell_type": "code",
   "execution_count": null,
   "id": "2671cc28-6eb1-4596-b1d8-9d19a8ea80b7",
   "metadata": {},
   "outputs": [],
   "source": [
    "\"\"\"\n",
    "vdk.plugin.ipython extension introduces a magic command for Jupyter.\n",
    "The command enables the user to load VDK for the current notebook.\n",
    "VDK provides the job_input API, which has methods for:\n",
    "    * executing queries to an OLAP database;\n",
    "    * ingesting data into a database;\n",
    "    * processing data into a database.\n",
    "See the IJobInput documentation for more details.\n",
    "https://github.com/vmware/versatile-data-kit/blob/main/projects/vdk-core/src/vdk/api/job_input.py\n",
    "Please refrain from tagging this cell with VDK as it is not an actual part of the data job\n",
    "and is only used for development purposes.\n",
    "\"\"\"\n",
    "%reload_ext vdk.plugin.ipython\n",
    "%reload_VDK\n",
    "job_input = VDK.get_initialized_job_input()"
   ]
  }
 ],
 "metadata": {
  "kernelspec": {
   "display_name": "Python 3 (ipykernel)",
   "language": "python",
   "name": "python3"
  },
  "language_info": {
   "codemirror_mode": {
    "name": "ipython",
    "version": 3
   },
   "file_extension": ".py",
   "mimetype": "text/x-python",
   "name": "python",
   "nbconvert_exporter": "python",
   "pygments_lexer": "ipython3",
   "version": "3.9.5"
  }
 },
 "nbformat": 4,
 "nbformat_minor": 5
}
