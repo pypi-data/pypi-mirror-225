{
 "cells": [
  {
   "cell_type": "code",
   "execution_count": 1,
   "id": "d19b7845-d3f2-45c7-baa3-a885747ecc07",
   "metadata": {
    "trrack_graph": "ᯡ࠽䈌ʀ匦㢠⹰恦8Ā࣠䌻〶䌠㍴☰֠✠♉ݺ嚡䚦瀽䁓᜶岚䀭亽Ҳ⠠䭈⑀棑瀶ፁ⍾凓᭮ẜΦ䒠ǁ#㗭䌸晠ኤРᝣ夠湐怾Ⴁ忘狠ˢ㣪$疒‣㐡㩦挸௅儽҂愭懸惀ĒいႳጰ⵩䕴捱డ㙐㭼㢨ᜬथ⯐䡣㌱ᅦ汻U䳗е漨䐢粬絭ቾᶢ්ሧ҉䃵氡Ḡݥ䞿䘥䗺墠䧚Ჽ㤑䦉޷ᚺ䮭ↄ偒ѹ塼⩜㩁ጶ䛋䐲猩㥈ቕǧↈ䜪滑䦲ᡊ⣒กᆨе姼夦Χ您剙գ倸♋໦熘縰䉃ࢲK䡂਼ṙ̸厂⩜㵨█⓽ᲲĬ䀠 "
   },
   "outputs": [
    {
     "name": "stdout",
     "output_type": "stream",
     "text": [
      "Loaded PersIst extension version 1.1.0\n",
      "Extension enabled for altair\n"
     ]
    }
   ],
   "source": [
    "import altair as alt\n",
    "from vega_datasets import data\n",
    "import persist_ext as PR\n",
    "\n",
    "PR.enable('altair')"
   ]
  },
  {
   "cell_type": "code",
   "execution_count": 3,
   "id": "3faa7e7c-5cdc-4f68-8e3f-e6b03b785054",
   "metadata": {
    "trrack_execution_spec": {
     "$schema": "https://vega.github.io/schema/vega-lite/v5.8.0.json",
     "config": {
      "view": {
       "continuousHeight": 300,
       "continuousWidth": 300
      }
     },
     "params": [
      {
       "name": "param_2",
       "select": {
        "encodings": [
         "x"
        ],
        "type": "point"
       },
       "views": [
        "view_2"
       ]
      }
     ],
     "resolve": {
      "legend": {
       "color": "independent",
       "size": "independent"
      }
     },
     "vconcat": [
      {
       "data": {
        "url": "https://cdn.jsdelivr.net/npm/vega-datasets@v1.29.0/data/movies.json"
       },
       "layer": [
        {
         "encoding": {
          "color": {
           "aggregate": "count",
           "scale": {
            "scheme": "greenblue"
           },
           "title": "Total Records",
           "type": "quantitative"
          },
          "x": {
           "bin": {},
           "field": "IMDB_Rating",
           "type": "quantitative"
          },
          "y": {
           "bin": {},
           "field": "Rotten_Tomatoes_Rating",
           "type": "quantitative"
          }
         },
         "mark": {
          "type": "rect"
         }
        },
        {
         "encoding": {
          "color": {
           "value": "grey"
          },
          "size": {
           "aggregate": "count",
           "title": "Records in Selection",
           "type": "quantitative"
          },
          "x": {
           "bin": {},
           "field": "IMDB_Rating",
           "type": "quantitative"
          },
          "y": {
           "bin": {},
           "field": "Rotten_Tomatoes_Rating",
           "type": "quantitative"
          }
         },
         "mark": {
          "type": "point"
         },
         "transform": [
          {
           "filter": {
            "param": "param_2"
           }
          }
         ]
        }
       ]
      },
      {
       "data": {
        "url": "https://cdn.jsdelivr.net/npm/vega-datasets@v1.29.0/data/movies.json"
       },
       "encoding": {
        "color": {
         "condition": {
          "param": "param_2",
          "value": "steelblue"
         },
         "value": "grey"
        },
        "x": {
         "field": "Major_Genre",
         "type": "nominal"
        },
        "y": {
         "aggregate": "count",
         "type": "quantitative"
        }
       },
       "height": 200,
       "mark": {
        "type": "bar"
       },
       "name": "view_2",
       "width": 550
      }
     ]
    },
    "trrack_graph": "ᯡ࠽䈌ʀ匦㢠⹰ˠጪځℌᓀⴠ㍔ǐɐኬ䰠瀰Ꭺ⻤ٕ။Ϻ᳁猼噩•ⳁႧ⋫侸䳅㕚䛬㣺㮕砈ሠڤ-䁁岬㺩j࠰}㩠怣㣣ט䈲曽欠଱絰n杄V䐶䫤℀ɑ†ಸȸ㤼㖪䫦䑯ሸ燂иخᐧࢮᢉ䝅傠Ɣ笚䝳ሼ⽵䐸㛑䅠Ȅ恨棲͔↴䜻䗄懀焔Öᢋ⇐䐰昩޾墨↛ࡁ媰㤵䀺浘〨ầ⨡㺚ᐕ允喺悭巻䇌愷嘠传ϛ淧挥〮澤Ɂ㤌݁䚆⁠ㄤ乢Ⴈᑁ⚧儦ᘪྔᆈ⡁䔧敒牆ܱ憸㢴๣壞徤䫱䇺瞥擫桂⣌₲⑲㒪Ʋ撒㲡⑱ᓪવ⌫䋼噬⼴▲哚⦰ᇒ峞Ⲫ୪狅➂ᡬ桨\"ࠤw᰻怠ऀ區Ổ洌ۘᜄ尊ަ毱㖜缰◓րҜ⩢ဨ䰦✲儂削䃤戂⃯ᙥㆈ娺ڡ䇾巗抖㥼䤦ඣ愨ሥա僱ᔺ䗡焘İ䋳㑚溶濴ඦ冮å冐ᦼ惑䎶嗛⬏ᴔ綤ґᳮ枵擐֎篃摙Āㄬ%੃囇吥`௃Ⱝ徼号䆱礜缰͝ㄘ჈㑊a弩ࡍ礹ⲗ佩㾘ሠẺ侜䂰形ᬇ䧶媣䬇庯䷦㻏怔繟丳梠㠨䢑̣㚈੐ၘᒦ䒡䔢⛊Ფ搼¥ၘ䨥ᑤ䢅灀ȩ/䉣挂З㑿䷦纀ქ䱗䠯ḹ䁆焠ὭǱᴲՑ⠥䑾㙇窡޷䓁᡹拐栬ࠠ獇䘰/൧償Ңӡⶬ摄宬挌㰱戼ࢣ 㮢ɢ傲䬨㚝䤲㕝ಃ晴䳓㊕亓習ఘⅈ!㊦\"塠¨␠熇а␠ɈᎮᴹ㦖DҬ䮮むᄡჄẋᄫʢⶴତ⇸։凋ᢰ〺㑍ࣇ⿄∝₌೰⢂䇣⒍ൣ㘡䥨ʄ䱳Ὺᇤᮦ橚傂ೣ҈怦沌᭦犊䷕ㆨ棼⇂㗭㲳㓽㶤瀽⌅㑽ⷎ甜⁬৖ࠡ᤬ܮ→⤦∤ཹ䁪Į⣰瘺悐烠ᤎܠ愔䲵痓ᓎ斅ᝀ唙ૈᖪۊᓜᶉ梚ὠᢦ࣠⍦Ⅵ渆⋧沌ċ㖾ㄈ㦮⧨㷎ംᄎϥ剾㌆岨܈堯㥒ė❓墯ᯪ㲉ᮩ㷏Ꮍբ䌵ʶ⾺揌㬲ǟぽ緂⊱᩠ѽஂ䉶²宠Dㅠ↪瑷䪶ゝ掣繢屢⢱ぁ䃀఼₀汁䈋籉ࢁ㡁䛣兏⪁ᔬو䣘妗䐥䃈Ꮺձⷬ㈡㞱䖲䊀啭⣰嗖䊽申䚤栴炚佫殚㠧欚㽺Кĉȧྈἴ厝歡ྒྷ瀉☙㰭ᘕ㠹㗣ا⃽⋺窠з⨊⡇⤬䳷Ⴟᄣ᫓ᦃ婇㭖ᥐၨ嵧⟦嵾呇嵎猧⢩ܠ䰪挃ැ჌ଡ忱ഠ⛄Ώ⚹唉丁叏䷝ㆊ䙑䢏䚩仕羮䠹ǒ㇓㄃㣦∦FỪä曑Ϋ䱧ಓ⧄狳ⴄ㌥扼堪朌挩㳷゙䞓傂瀫ీᦁ㞈冋㜂暄 ᇆȡ᰿䧫ဆՑេ䘼憶曣噶搼厦△烠ጩヹ㞶濠㩢Ḅ౔⊘㖦⑷ऑ⧑ࢷ惖䔳簦♌䩩㇧劘佊䝡ధ⣗擱ใ㘼ᜀƥ屦ᖡ剌ఢ偂ծ↨䤄䋽㟧ጱ戬䕫ְ䢿摐爄ዪᐴ盭恧䁆ⓔ䥹˔ㄽཛྷ䘋椁漈凷ᗌὊ઻䌵⊓䡂摰勮伊ॸ娨ₓ䧉၆ȷȒᾌᕞ⨮㸤ঝ⻦綣ԣ濃碍⎐䢂⊬ڲ㺈ڜ䰵判᷆澷⑟ⴢ㾟懴淀㓦䪈ᚼ甮妙㌤䀽ℂ嵯◚Ὦ‼ૠ桰৞䒡牚˰┧ဪӀ㐥惄਽ب䂩რ倸ᠩ⛫㡂玎埊ℏ╡Ὣ嶩૚Э㧷ࡕ⎚⟌ಈ䁭䶭⌶㋻ᒢ恱ᣌॗⴄೆ燣⛳䦣玫䲐㖓圶а䤩汝ف屼㰽ࡍ籺䋟౹潐䜸墭烩ಂ⌷ᆌ庂૴Ᏼ屇㣃Ꭹୋ䣳྅ⴶ㳊旒歜ѥ㙧䶹䜤䖮䥋ರ盇ऄԠᶨᥐᩂ቎ʰ℠〴擀ᰤ⁘੩㐦f⊰喷ᔤ䲳炥ォ極↉∄ໆⲽ㉧⒒♌ળ⥐Ӳ㸋勛ॢឦᱬ䯷扵婋¬㥺঒@ᄾ⦑狐Ꮭⅆᖽ尚盧Ո冪磈䬇䀡䈰୐倳灒嵄䁖⭧ㆱ攘皰糨⨅⪼斺哪⻋㎽⍴戡⁶呙掲䲉ഒ栢獱ᬆ溞⁜叩㳬Ι䖡ᑀŨ䝄狧㴅⠴畊ഏ岮ҙᜀ嵫呝㪢↖䖇㚅欽៫ᶇ❹嶳㫾䓐Ⓓᡰਡ爥∼唤ᡣ߀䓥ࣷ澠ᔳლ⏐㠧曟㚀ೣ猀搄楈˲浈ݚ㯆晦櫶㑏⍦拦ᛠ≘Ȭ⠵஛ᴶၹᡲ廦拔ఆి⚓䓬稨䬐㒵㝙ᔰ缃㈞ㅜਵᕴᖙೖ䎹㙦ᶖ㕋૓暢泶拳圇䉜倥㲭ॊ䳈噊䓉⫗⤠㑇縄ʱ⨵䅊ᕠ倩Ȧ⁗傗欸ᆶ晐ɐᥣኒ䩕᭾⑇⮋ᔴ煉唥淕▽ᕏ嬓䤠㠴珛ร㺯樬ᵚ⊸䠛ⵖ䄠朙け஀㑧ȅ檎⃒ி帶㿊ᘠ璩拨ๅ牽ụ䬾ਃs懰㏮㰷庱ໝ勏஧⽙懹㫱瑯僙Ὅ綧⎕乤瞎嗭溽ᶽϿ᷏ἓᢔ΁㸵烴ㅨㄿ䃲ᵆ潫塈ᕬᎦ䜑⺮䥥൑䥈ዶ᷼๝☄ᨠᇄⰤ瀩ӹ寨碩笖௖⹽慗㩆৖፹Ⅷᕢ孨䏾巕ᦕⅺ箂嬥㳗磅⽕璉⾵烊炳ਧ࿝粶ᔲ•㮜⎡床䊐ᒳٍⲀ摨℞曈剸䥸ከǨ䷦罌ાጧ絪❹场䥉ᩲ⛎泫⺄䎻䝇ᦍ勌以ᥴẃᷪ㻉⩿乀⤦㈦ૐ泯䥎㏮ᕭḙ篗㳷䉉䑒ㅷ棠僕紱㰛翆ធ砬ዸฐᴲ  "
   },
   "outputs": [
    {
     "data": {
      "application/vnd.vegalite.v5+json": {
       "$schema": "https://vega.github.io/schema/vega-lite/v5.8.0.json",
       "config": {
        "view": {
         "continuousHeight": 300,
         "continuousWidth": 300
        }
       },
       "params": [
        {
         "name": "param_2",
         "select": {
          "encodings": [
           "x"
          ],
          "type": "point"
         },
         "views": [
          "view_2"
         ]
        }
       ],
       "resolve": {
        "legend": {
         "color": "independent",
         "size": "independent"
        }
       },
       "vconcat": [
        {
         "data": {
          "url": "https://cdn.jsdelivr.net/npm/vega-datasets@v1.29.0/data/movies.json"
         },
         "layer": [
          {
           "encoding": {
            "color": {
             "aggregate": "count",
             "scale": {
              "scheme": "greenblue"
             },
             "title": "Total Records",
             "type": "quantitative"
            },
            "x": {
             "bin": {},
             "field": "IMDB_Rating",
             "type": "quantitative"
            },
            "y": {
             "bin": {},
             "field": "Rotten_Tomatoes_Rating",
             "type": "quantitative"
            }
           },
           "mark": {
            "type": "rect"
           }
          },
          {
           "encoding": {
            "color": {
             "value": "grey"
            },
            "size": {
             "aggregate": "count",
             "title": "Records in Selection",
             "type": "quantitative"
            },
            "x": {
             "bin": {},
             "field": "IMDB_Rating",
             "type": "quantitative"
            },
            "y": {
             "bin": {},
             "field": "Rotten_Tomatoes_Rating",
             "type": "quantitative"
            }
           },
           "mark": {
            "type": "point"
           },
           "transform": [
            {
             "filter": {
              "param": "param_2"
             }
            }
           ]
          }
         ]
        },
        {
         "data": {
          "url": "https://cdn.jsdelivr.net/npm/vega-datasets@v1.29.0/data/movies.json"
         },
         "encoding": {
          "color": {
           "condition": {
            "param": "param_2",
            "value": "steelblue"
           },
           "value": "grey"
          },
          "x": {
           "field": "Major_Genre",
           "type": "nominal"
          },
          "y": {
           "aggregate": "count",
           "type": "quantitative"
          }
         },
         "height": 200,
         "mark": {
          "type": "bar"
         },
         "name": "view_2",
         "width": 550
        }
       ]
      },
      "text/plain": [
       "<VegaLite 5 object>\n",
       "\n",
       "If you see this message, it means the renderer has not been properly enabled\n",
       "for the frontend that you are using. For more information, see\n",
       "https://altair-viz.github.io/user_guide/display_frontends.html#troubleshooting\n"
      ]
     },
     "execution_count": 3,
     "metadata": {},
     "output_type": "execute_result"
    }
   ],
   "source": [
    "source = data.movies.url\n",
    "\n",
    "pts = alt.selection_point(encodings=['x'])\n",
    "\n",
    "rect = alt.Chart(data.movies.url).mark_rect().encode(\n",
    "    alt.X('IMDB_Rating:Q').bin(),\n",
    "    alt.Y('Rotten_Tomatoes_Rating:Q').bin(),\n",
    "    alt.Color('count()').scale(scheme='greenblue').title('Total Records')\n",
    ")\n",
    "\n",
    "circ = rect.mark_point().encode(\n",
    "    alt.ColorValue('grey'),\n",
    "    alt.Size('count()').title('Records in Selection')\n",
    ").transform_filter(\n",
    "    pts\n",
    ")\n",
    "\n",
    "bar = alt.Chart(source, width=550, height=200).mark_bar().encode(\n",
    "    x='Major_Genre:N',\n",
    "    y='count()',\n",
    "    color=alt.condition(pts, alt.ColorValue(\"steelblue\"), alt.ColorValue(\"grey\"))\n",
    ").add_params(pts)\n",
    "\n",
    "alt.vconcat(\n",
    "    rect + circ,\n",
    "    bar\n",
    ").resolve_legend(\n",
    "    color=\"independent\",\n",
    "    size=\"independent\"\n",
    ")"
   ]
  }
 ],
 "metadata": {
  "__CATEGORIES_META__": "{\"categories\":{},\"activeCategoryName\":\"\"}",
  "kernelspec": {
   "display_name": "Python 3 (ipykernel)",
   "language": "python",
   "name": "python3"
  },
  "language_info": {
   "codemirror_mode": {
    "name": "ipython",
    "version": 3
   },
   "file_extension": ".py",
   "mimetype": "text/x-python",
   "name": "python",
   "nbconvert_exporter": "python",
   "pygments_lexer": "ipython3",
   "version": "3.8.16"
  }
 },
 "nbformat": 4,
 "nbformat_minor": 5
}
