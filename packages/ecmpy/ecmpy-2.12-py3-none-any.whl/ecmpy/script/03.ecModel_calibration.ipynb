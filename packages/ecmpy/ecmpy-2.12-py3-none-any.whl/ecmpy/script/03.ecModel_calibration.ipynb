{
 "cells": [
  {
   "attachments": {},
   "cell_type": "markdown",
   "id": "de6a339d",
   "metadata": {},
   "source": [
    "## Import related functions"
   ]
  },
  {
   "cell_type": "code",
   "execution_count": 1,
   "id": "748d1c14",
   "metadata": {},
   "outputs": [],
   "source": [
    "import cobra\n",
    "import re \n",
    "import pandas as pd\n",
    "#from script.ECMpy_function import *\n",
    "import sys\n",
    "sys.path.append(r'./script/')\n",
    "from ECMpy_function import *"
   ]
  },
  {
   "attachments": {},
   "cell_type": "markdown",
   "id": "0c1f8ce9",
   "metadata": {},
   "source": [
    "# Input and output files"
   ]
  },
  {
   "cell_type": "code",
   "execution_count": 2,
   "id": "814777ba",
   "metadata": {},
   "outputs": [],
   "source": [
    "#Initial parameters\n",
    "enz_ratio=0.1\n",
    "f = 0.406 \n",
    "ptot = 0.56 \n",
    "sigma = 1\n",
    "lowerbound = 0   \n",
    "upperbound = round(ptot * f * sigma, 3) \n",
    "EC_max_file='./data/EC_kcat_max.json'# https://www.brenda-enzymes.org/brenda_download/file_download.php\n",
    "method='AutoPACMEN'#DLKcat\n",
    "\n",
    "#Originl ecmodel and result file\n",
    "ecModel_file=\"./model/iML1515_irr_enz_constraint.json\"\n",
    "fluxes_infile_ori = './analysis/ECMpy_solution_BIOMASS_Ec_iML1515_core_75p37M_pfba.csv'\n",
    "reaction_kcat_MW_file = \"./analysis/get_kcat_mw_by_%s/reaction_kcat_MW.csv\"%method\n",
    "need_change_reaction_list=[]\n",
    "changed_reaction_list=[]\n",
    "round_num=1\n",
    "reaction_kcat_mw = pd.read_csv(reaction_kcat_MW_file, index_col=0)\n",
    "\n",
    "#ecmodel and result file\n",
    "json_output_file = './model/iML1515_irr_enz_constraint_adj.json'\n",
    "reaction_kcat_MW_outfile = './analysis/get_kcat_mw_by_%s/reaction_change_by_enzuse.csv'%method"
   ]
  },
  {
   "attachments": {},
   "cell_type": "markdown",
   "id": "b7f3d628",
   "metadata": {},
   "source": [
    "# Calibration kcat according Enzyme usage "
   ]
  },
  {
   "cell_type": "code",
   "execution_count": 3,
   "id": "21730d4f",
   "metadata": {},
   "outputs": [
    {
     "name": "stdout",
     "output_type": "stream",
     "text": [
      "Need changing reaction: \n",
      "PRFGS\n",
      "Changed reaction: \n",
      "['PRFGS']\n",
      "Calibration round 1 : 0.2317351244298534\n",
      "Need changing reaction: \n",
      "KARA1_reverse\n",
      "Changed reaction: \n",
      "['PRFGS']\n",
      "Calibration round 2 : 0.2317351244298534\n",
      "Need changing reaction: \n",
      "FBA_num1\n",
      "Changed reaction: \n",
      "['PRFGS', 'FBA_num1']\n",
      "Calibration round 3 : 0.2448379051167444\n",
      "Need changing reaction: \n",
      "PFL_num3\n",
      "Changed reaction: \n",
      "['PRFGS', 'FBA_num1', 'PFL_num3']\n",
      "Calibration round 4 : 0.24723409717850237\n",
      "Need changing reaction: \n",
      "3OAS141\n",
      "Changed reaction: \n",
      "['PRFGS', 'FBA_num1', 'PFL_num3', '3OAS141']\n",
      "Calibration round 5 : 0.26291740155298693\n",
      "Need changing reaction: \n",
      "3OAS121\n",
      "Changed reaction: \n",
      "['PRFGS', 'FBA_num1', 'PFL_num3', '3OAS141', '3OAS121']\n",
      "Calibration round 6 : 0.28060035078343426\n",
      "Need changing reaction: \n",
      "3OAS161\n",
      "Changed reaction: \n",
      "['PRFGS', 'FBA_num1', 'PFL_num3', '3OAS141', '3OAS121', '3OAS161']\n",
      "Calibration round 7 : 0.29935260940898845\n",
      "Need changing reaction: \n",
      "GLUDy_reverse\n",
      "Changed reaction: \n",
      "['PRFGS', 'FBA_num1', 'PFL_num3', '3OAS141', '3OAS121', '3OAS161']\n",
      "Calibration round 8 : 0.29935260940898845\n",
      "Need changing reaction: \n",
      "PSERT\n",
      "Changed reaction: \n",
      "['PRFGS', 'FBA_num1', 'PFL_num3', '3OAS141', '3OAS121', '3OAS161', 'PSERT']\n",
      "Calibration round 9 : 0.3019931955123317\n",
      "Need changing reaction: \n",
      "PAPSR2_num2\n",
      "Changed reaction: \n",
      "['PRFGS', 'FBA_num1', 'PFL_num3', '3OAS141', '3OAS121', '3OAS161', 'PSERT', 'PAPSR2_num2']\n",
      "Calibration round 10 : 0.30778505076067575\n",
      "Need changing reaction: \n",
      "3OAR100\n",
      "Changed reaction: \n",
      "['PRFGS', 'FBA_num1', 'PFL_num3', '3OAS141', '3OAS121', '3OAS161', 'PSERT', 'PAPSR2_num2', '3OAR100']\n",
      "Calibration round 11 : 0.3137641168190288\n",
      "Need changing reaction: \n",
      "3OAR40\n",
      "Changed reaction: \n",
      "['PRFGS', 'FBA_num1', 'PFL_num3', '3OAS141', '3OAS121', '3OAS161', 'PSERT', 'PAPSR2_num2', '3OAR100', '3OAR40']\n",
      "Calibration round 12 : 0.31998008494524793\n",
      "Need changing reaction: \n",
      "3OAR60\n",
      "Changed reaction: \n",
      "['PRFGS', 'FBA_num1', 'PFL_num3', '3OAS141', '3OAS121', '3OAS161', 'PSERT', 'PAPSR2_num2', '3OAR100', '3OAR40', '3OAR60']\n",
      "Calibration round 13 : 0.32644731948227623\n",
      "Need changing reaction: \n",
      "3OAR80\n",
      "Changed reaction: \n",
      "['PRFGS', 'FBA_num1', 'PFL_num3', '3OAS141', '3OAS121', '3OAS161', 'PSERT', 'PAPSR2_num2', '3OAR100', '3OAR40', '3OAR60', '3OAR80']\n",
      "Calibration round 14 : 0.3331813808370729\n",
      "Need changing reaction: \n",
      "PGCD\n",
      "Changed reaction: \n",
      "['PRFGS', 'FBA_num1', 'PFL_num3', '3OAS141', '3OAS121', '3OAS161', 'PSERT', 'PAPSR2_num2', '3OAR100', '3OAR40', '3OAR60', '3OAR80', 'PGCD']\n",
      "Calibration round 15 : 0.34013803709333124\n",
      "Need changing reaction: \n",
      "PFK_num2\n",
      "Changed reaction: \n",
      "['PRFGS', 'FBA_num1', 'PFL_num3', '3OAS141', '3OAS121', '3OAS161', 'PSERT', 'PAPSR2_num2', '3OAR100', '3OAR40', '3OAR60', '3OAR80', 'PGCD', 'PFK_num2']\n",
      "Calibration round 16 : 0.34272605333470413\n",
      "Need changing reaction: \n",
      "PGM_reverse_num2\n",
      "Changed reaction: \n",
      "['PRFGS', 'FBA_num1', 'PFL_num3', '3OAS141', '3OAS121', '3OAS161', 'PSERT', 'PAPSR2_num2', '3OAR100', '3OAR40', '3OAR60', '3OAR80', 'PGCD', 'PFK_num2']\n",
      "Calibration round 17 : 0.34272605333470413\n",
      "Need changing reaction: \n",
      "PSP_L\n",
      "Changed reaction: \n",
      "['PRFGS', 'FBA_num1', 'PFL_num3', '3OAS141', '3OAS121', '3OAS161', 'PSERT', 'PAPSR2_num2', '3OAR100', '3OAR40', '3OAR60', '3OAR80', 'PGCD', 'PFK_num2', 'PSP_L']\n",
      "Calibration round 18 : 0.3477332357785003\n",
      "Need changing reaction: \n",
      "ACCOAC\n",
      "Changed reaction: \n",
      "['PRFGS', 'FBA_num1', 'PFL_num3', '3OAS141', '3OAS121', '3OAS161', 'PSERT', 'PAPSR2_num2', '3OAR100', '3OAR40', '3OAR60', '3OAR80', 'PGCD', 'PFK_num2', 'PSP_L', 'ACCOAC']\n",
      "Calibration round 19 : 0.3510571116187143\n",
      "Need changing reaction: \n",
      "PTAr_num2\n",
      "Changed reaction: \n",
      "['PRFGS', 'FBA_num1', 'PFL_num3', '3OAS141', '3OAS121', '3OAS161', 'PSERT', 'PAPSR2_num2', '3OAR100', '3OAR40', '3OAR60', '3OAR80', 'PGCD', 'PFK_num2', 'PSP_L', 'ACCOAC', 'PTAr_num2']\n",
      "Calibration round 20 : 0.357895249983355\n",
      "Need changing reaction: \n",
      "3OAR120\n",
      "Changed reaction: \n",
      "['PRFGS', 'FBA_num1', 'PFL_num3', '3OAS141', '3OAS121', '3OAS161', 'PSERT', 'PAPSR2_num2', '3OAR100', '3OAR40', '3OAR60', '3OAR80', 'PGCD', 'PFK_num2', 'PSP_L', 'ACCOAC', 'PTAr_num2', '3OAR120']\n",
      "Calibration round 21 : 0.3623719988194885\n"
     ]
    }
   ],
   "source": [
    "#Calibration\n",
    "enz_model_obj=0\n",
    "while (enz_model_obj<0.36):#maxium growth rate\n",
    "    [enz_model,reaction_kcat_mw,need_change_reaction_list, changed_reaction_list]=change_enz_model_by_enz_usage(enz_ratio,ecModel_file,fluxes_infile_ori,EC_max_file,\\\n",
    "                                                    reaction_kcat_mw,need_change_reaction_list,changed_reaction_list,f, \\\n",
    "                                                    ptot, sigma, lowerbound, upperbound, json_output_file)\n",
    "\n",
    "    enz_model_obj=enz_model.slim_optimize()\n",
    "    print('Calibration round %s : '%round_num+str(enz_model_obj))\n",
    "    round_num=round_num+1\n",
    "    \n",
    "reaction_kcat_mw.to_csv(reaction_kcat_MW_outfile)"
   ]
  },
  {
   "cell_type": "code",
   "execution_count": null,
   "id": "461cd945",
   "metadata": {},
   "outputs": [],
   "source": []
  }
 ],
 "metadata": {
  "kernelspec": {
   "display_name": "Python 3.7.6 ('autoECMpy')",
   "language": "python",
   "name": "python3"
  },
  "language_info": {
   "codemirror_mode": {
    "name": "ipython",
    "version": 3
   },
   "file_extension": ".py",
   "mimetype": "text/x-python",
   "name": "python",
   "nbconvert_exporter": "python",
   "pygments_lexer": "ipython3",
   "version": "3.7.12"
  },
  "vscode": {
   "interpreter": {
    "hash": "a6e0d8b250351d3b30989470297d7a84ebc09417abaa29b208c8f69c53951b79"
   }
  }
 },
 "nbformat": 4,
 "nbformat_minor": 5
}
