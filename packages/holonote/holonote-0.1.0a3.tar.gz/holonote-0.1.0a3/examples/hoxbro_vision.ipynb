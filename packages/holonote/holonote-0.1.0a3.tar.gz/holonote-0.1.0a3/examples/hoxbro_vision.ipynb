{
 "cells": [
  {
   "cell_type": "code",
   "execution_count": null,
   "id": "519af352-eba9-41d2-a164-c4b6ae4945d3",
   "metadata": {},
   "outputs": [],
   "source": [
    "import os\n",
    "import uuid\n",
    "\n",
    "import holoviews as hv\n",
    "import hvplot.pandas\n",
    "import numpy as np\n",
    "import pandas as pd\n",
    "\n",
    "from holonote.annotate import Annotator, SQLiteDB\n",
    "\n",
    "hv.extension(\"bokeh\")\n",
    "hv.opts.defaults(hv.opts.Rectangles(apply_ranges=False))"
   ]
  },
  {
   "cell_type": "code",
   "execution_count": null,
   "id": "e91ab795-0b03-4b9a-a31c-fb20dbf8035d",
   "metadata": {},
   "outputs": [],
   "source": [
    "speed_data = pd.read_parquet(\"./assets/example.parquet\")\n",
    "speed_curve = speed_data.hvplot(\"TIME\", \"SPEED\")\n",
    "speed_curve = hv.Curve(\n",
    "    (np.arange(\"2005-02\", \"2005-03\", dtype=\"datetime64[D]\"), range(28)), kdims=[\"TIME\"]\n",
    ")\n",
    "speed_curve"
   ]
  },
  {
   "cell_type": "code",
   "execution_count": null,
   "id": "bf6f1404-4088-4e1a-a0e3-6b76765fec46",
   "metadata": {},
   "outputs": [],
   "source": [
    "xvals = np.linspace(-4, 0, 202)\n",
    "yvals = np.linspace(4, 0, 202)\n",
    "xs, ys = np.meshgrid(xvals, yvals)\n",
    "\n",
    "alpha, beta = 1, 0\n",
    "data = np.sin(((ys / alpha) ** alpha + beta) * xs)\n",
    "\n",
    "image = hv.Image(data, kdims=[\"A\", \"B\"]).opts(cmap=\"greens\")\n",
    "image"
   ]
  },
  {
   "cell_type": "markdown",
   "id": "92e3b804-9334-42bb-892f-e717f7f464d7",
   "metadata": {},
   "source": [
    "# Main branch implementation\n",
    "This is how it works on the main branch:"
   ]
  },
  {
   "cell_type": "raw",
   "id": "8b190980-c96b-4cfe-ba51-ebd604bc9316",
   "metadata": {},
   "source": [
    "connector = SQLiteDB(table_name='Idecided')\n",
    "curve_annotator = Annotator(speed_curve, connector=connector, fields=['description']) # Check fields match when shared\n",
    "image_annotator = Annotator(image, connector=connector, fields=['description'])"
   ]
  },
  {
   "cell_type": "raw",
   "id": "85e64dad-5628-4786-b6c2-a14aa24129ff",
   "metadata": {},
   "source": [
    "curve_annotator.overlay() + image_annotator.overlay()"
   ]
  },
  {
   "cell_type": "raw",
   "id": "a398dbc9-f12d-47de-9ffc-d3f59cade4af",
   "metadata": {},
   "source": [
    "curve_annotator.set_range(np.datetime64('2005-02-13'), np.datetime64('2005-02-16'))\n",
    "image_annotator.set_range(-0.25, 0.25, -0.1, 0.1)"
   ]
  },
  {
   "cell_type": "raw",
   "id": "e08fc58f-1ba1-4869-9e33-11559365dd16",
   "metadata": {},
   "source": [
    "connector.add_annotation(description='Annotation 2')\n",
    "connector.commit()"
   ]
  },
  {
   "cell_type": "markdown",
   "id": "da096188-a7ed-498c-8e95-e743007c1ea0",
   "metadata": {},
   "source": [
    "# Current implementation - part 1\n",
    "\n",
    "Based on Jean-Lucs vision of passing in an element\n",
    "\n",
    "The is how it works on \"my\" branch. \n",
    "\n",
    "This is not 1-for-1 for with main as it returns two rows, where main returns one row with annotations: \n",
    "\n",
    "\n",
    "<div>\n",
    "<img src=\"multi_example.png\" width=\"1000\"/>\n",
    "</div>"
   ]
  },
  {
   "cell_type": "code",
   "execution_count": null,
   "id": "30864616-91b6-4900-9799-f2cc6511e616",
   "metadata": {},
   "outputs": [],
   "source": [
    "connector = SQLiteDB(table_name=\"Idecided\")\n",
    "\n",
    "# Check fields match when shared, (clone is needed to not overlay the original element)\n",
    "curve_annotator = Annotator(\n",
    "    speed_curve.clone(), connector=connector, fields=[\"description\"], init=False\n",
    ")\n",
    "image_annotator = Annotator(\n",
    "    image, connector=connector, fields=[\"description\"], init=False\n",
    ")\n",
    "curve_annotator.load()\n",
    "image_annotator.load()"
   ]
  },
  {
   "cell_type": "code",
   "execution_count": null,
   "id": "b4a0afe1-ac9f-4a87-889a-046914a25c5b",
   "metadata": {},
   "outputs": [],
   "source": [
    "curve_annotator.overlay() + image_annotator.overlay()"
   ]
  },
  {
   "cell_type": "code",
   "execution_count": null,
   "id": "416b03a9-695c-45c2-aa55-7142da1d6646",
   "metadata": {},
   "outputs": [],
   "source": [
    "# Gives problems when having multiple of the same annotations\n",
    "# I have in all my other projects used an empty element (hv.Curve([]) as input element.\n",
    "curve_annotator.overlay() + image_annotator.overlay()"
   ]
  },
  {
   "cell_type": "code",
   "execution_count": null,
   "id": "c1c09972-3e85-4b7e-90cc-3f3edde71c15",
   "metadata": {},
   "outputs": [],
   "source": [
    "curve_annotator.set_range(np.datetime64(\"2005-02-13\"), np.datetime64(\"2005-02-16\"))\n",
    "image_annotator.set_range(-0.25, 0.25, -0.1, 0.1)"
   ]
  },
  {
   "cell_type": "code",
   "execution_count": null,
   "id": "d7d5851c-59e0-46ab-ab7f-31eebba5ae98",
   "metadata": {},
   "outputs": [],
   "source": [
    "curve_annotator.add_annotation(description=\"Annotation 2\")\n",
    "image_annotator.add_annotation(description=\"Annotation 2\")\n",
    "curve_annotator.commit()\n",
    "image_annotator.commit()"
   ]
  },
  {
   "cell_type": "markdown",
   "id": "707a1104-2b48-4d8f-bd4d-170db9067c8f",
   "metadata": {},
   "source": [
    "# Current implementation - part 2\n",
    "Based on how I do things for projects: (not working with Image - so removed it for simplicity)"
   ]
  },
  {
   "cell_type": "code",
   "execution_count": null,
   "id": "b9b76aa2-8df5-49b3-95fa-62c723c33f3d",
   "metadata": {},
   "outputs": [],
   "source": [
    "connector = SQLiteDB(table_name=\"Idecided2\")\n",
    "\n",
    "curve_annotator = Annotator(\n",
    "    # spec=Annotator._infer_kdim_dtypes(speed_curve),\n",
    "    spec={\"TIME\": np.datetime64},\n",
    "    connector=connector,\n",
    "    fields=[\"description\"],\n",
    ")\n",
    "\n",
    "anno = curve_annotator.overlay(hv.Curve([]))  # hack"
   ]
  },
  {
   "cell_type": "code",
   "execution_count": null,
   "id": "9b459ef8-9083-49c5-96ce-2c489e06d916",
   "metadata": {},
   "outputs": [],
   "source": [
    "anno * speed_curve"
   ]
  },
  {
   "cell_type": "code",
   "execution_count": null,
   "id": "b1906abf-2203-45a2-bc0e-b5826794baf8",
   "metadata": {},
   "outputs": [],
   "source": [
    "anno * speed_curve"
   ]
  },
  {
   "cell_type": "markdown",
   "id": "e0efbab2-b1e9-4b18-baf0-7883b9476767",
   "metadata": {},
   "source": [
    "# Simon future vision\n",
    "The is how I _think_ I would like it to work"
   ]
  },
  {
   "cell_type": "raw",
   "id": "29a6bd29-bdb0-4c5e-80ed-1d3a4eaca2d8",
   "metadata": {},
   "source": [
    "annotator = Annotator.from_elements(speed_curve, image, connector=connector, fields=[\"description\"])\n",
    "\n",
    "# This should only extract the information from kdims from the elements and should be identical to:\n",
    "spec = {\"TIME\": np.datetime64, \"A\": float, \"B\": float}\n",
    "annotator = Annotator(spec, connector=connector, fields=[\"description\"])\n",
    "\n",
    "# This means that Annotator has no direct assosiation with the holoviews element! \n",
    "\n",
    "# NOTE: from_element can can be created like this:\n",
    "# {**Annotator._infer_kdim_dtypes(speed_curve), **Annotator._infer_kdim_dtypes(image)}"
   ]
  },
  {
   "cell_type": "raw",
   "id": "798c0178-8057-46f1-85c5-e7f6e9e1234e",
   "metadata": {},
   "source": [
    "# annotator should automatic find the right element to output based on kdims.\n",
    "\n",
    "annotator * speed_curve + annotator * image"
   ]
  },
  {
   "cell_type": "markdown",
   "id": "7f4aeee6-4200-419e-bbff-dbd2b01fba01",
   "metadata": {},
   "source": [
    "# Jean-Lucs future vision\n",
    "See: https://github.com/holoviz/holonote/issues/9"
   ]
  },
  {
   "cell_type": "raw",
   "id": "5a94a50c-e2ae-4853-abce-d2a2b0a8afdd",
   "metadata": {},
   "source": [
    "datasource = DataSource()\n",
    "image_annotator = Annotator(image, datasource=datasource)\n",
    "curve_annotator = Annotator(curve, datasource=datasource)\n",
    "datasource.add_annotation()"
   ]
  }
 ],
 "metadata": {
  "language_info": {
   "name": "python",
   "pygments_lexer": "ipython3"
  }
 },
 "nbformat": 4,
 "nbformat_minor": 5
}
