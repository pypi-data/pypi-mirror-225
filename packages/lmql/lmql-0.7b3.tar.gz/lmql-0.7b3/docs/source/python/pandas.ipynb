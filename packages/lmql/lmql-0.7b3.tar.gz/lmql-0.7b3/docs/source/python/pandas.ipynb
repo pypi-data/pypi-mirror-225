{
 "cells": [
  {
   "attachments": {},
   "cell_type": "markdown",
   "metadata": {},
   "source": [
    "# LMQL and Pandas 🐼"
   ]
  },
  {
   "cell_type": "code",
   "execution_count": 1,
   "metadata": {
    "nbsphinx": "hidden"
   },
   "outputs": [],
   "source": [
    "# setup lmql path (not shown in documentation, metadata has nbshpinx: hidden)\n",
    "import sys \n",
    "sys.path.append(\"../../../src/\")\n",
    "# load and set OPENAI_API_KEY\n",
    "import os \n",
    "os.environ[\"OPENAI_API_KEY\"] = open(\"../../../api.env\").read().split(\"\\n\")[1].split(\": \")[1].strip()\n",
    "\n",
    "%load_ext autoreload\n",
    "%autoreload 2\n",
    "\n",
    "# disable logit bias logging\n",
    "import lmql.runtime.bopenai.batched_openai as batched_openai\n",
    "batched_openai.set_logit_bias_logging(False)"
   ]
  },
  {
   "attachments": {},
   "cell_type": "markdown",
   "metadata": {},
   "source": [
    "When used from within Python, LMQL queries can be treated as simple python functions. This means building pipelines with LMQL is as easy as chaining together functions. However, next to easy integration, LMQL queries also offer a guaranteed output format when it comes to the data types and structure of the returned values. This makes it easy to process the output of LMQL queries in a structured way, e.g. with tabular/array-based data processing libraries such as Pandas.\n",
    "\n",
    "For example, the following code snippet processes the output of an LMQL query with [pandas](https://pandas.pydata.org):"
   ]
  },
  {
   "cell_type": "code",
   "execution_count": 7,
   "metadata": {},
   "outputs": [
    {
     "data": {
      "text/html": [
       "<div>\n",
       "<style scoped>\n",
       "    .dataframe tbody tr th:only-of-type {\n",
       "        vertical-align: middle;\n",
       "    }\n",
       "\n",
       "    .dataframe tbody tr th {\n",
       "        vertical-align: top;\n",
       "    }\n",
       "\n",
       "    .dataframe thead th {\n",
       "        text-align: right;\n",
       "    }\n",
       "</style>\n",
       "<table border=\"1\" class=\"dataframe\">\n",
       "  <thead>\n",
       "    <tr style=\"text-align: right;\">\n",
       "      <th></th>\n",
       "      <th>NAME</th>\n",
       "      <th>AGE</th>\n",
       "      <th>BREED</th>\n",
       "      <th>MOVE</th>\n",
       "    </tr>\n",
       "  </thead>\n",
       "  <tbody>\n",
       "    <tr>\n",
       "      <th>0</th>\n",
       "      <td>Houston</td>\n",
       "      <td>8</td>\n",
       "      <td>Beagle</td>\n",
       "      <td>Houston loves to play hide and seek, but inst...</td>\n",
       "    </tr>\n",
       "    <tr>\n",
       "      <th>1</th>\n",
       "      <td>Mya</td>\n",
       "      <td>3</td>\n",
       "      <td>Golden Retriever</td>\n",
       "      <td>The Mya shake, a playful shoulder shimmy deve...</td>\n",
       "    </tr>\n",
       "    <tr>\n",
       "      <th>2</th>\n",
       "      <td>Sandy</td>\n",
       "      <td>8</td>\n",
       "      <td>Golden Retriever</td>\n",
       "      <td>Sandy loves to wiggle her front legs when she...</td>\n",
       "    </tr>\n",
       "    <tr>\n",
       "      <th>3</th>\n",
       "      <td>Ranger</td>\n",
       "      <td>7</td>\n",
       "      <td>Bulldog</td>\n",
       "      <td>Special scratches his ear with his hind leg l...</td>\n",
       "    </tr>\n",
       "    <tr>\n",
       "      <th>4</th>\n",
       "      <td>Spot</td>\n",
       "      <td>4</td>\n",
       "      <td>German Shepherd</td>\n",
       "      <td>A somersault during a jump when running</td>\n",
       "    </tr>\n",
       "    <tr>\n",
       "      <th>5</th>\n",
       "      <td>Fido</td>\n",
       "      <td>7</td>\n",
       "      <td>Beagle</td>\n",
       "      <td>A funny shuffle dance when playing fetch</td>\n",
       "    </tr>\n",
       "    <tr>\n",
       "      <th>6</th>\n",
       "      <td>Tippy</td>\n",
       "      <td>4</td>\n",
       "      <td>Bernese Mountain Dog</td>\n",
       "      <td>Doing the shadow dance</td>\n",
       "    </tr>\n",
       "    <tr>\n",
       "      <th>7</th>\n",
       "      <td>Max</td>\n",
       "      <td>8</td>\n",
       "      <td>Golden Retriever</td>\n",
       "      <td>The Wiggle Jump</td>\n",
       "    </tr>\n",
       "  </tbody>\n",
       "</table>\n",
       "</div>"
      ],
      "text/plain": [
       "       NAME  AGE                  BREED  \\\n",
       "0   Houston    8                 Beagle   \n",
       "1       Mya    3       Golden Retriever   \n",
       "2     Sandy    8       Golden Retriever   \n",
       "3    Ranger    7                Bulldog   \n",
       "4      Spot    4        German Shepherd   \n",
       "5      Fido    7                 Beagle   \n",
       "6     Tippy    4   Bernese Mountain Dog   \n",
       "7       Max    8       Golden Retriever   \n",
       "\n",
       "                                                MOVE  \n",
       "0   Houston loves to play hide and seek, but inst...  \n",
       "1   The Mya shake, a playful shoulder shimmy deve...  \n",
       "2   Sandy loves to wiggle her front legs when she...  \n",
       "3   Special scratches his ear with his hind leg l...  \n",
       "4            A somersault during a jump when running  \n",
       "5           A funny shuffle dance when playing fetch  \n",
       "6                             Doing the shadow dance  \n",
       "7                                    The Wiggle Jump  "
      ]
     },
     "execution_count": 7,
     "metadata": {},
     "output_type": "execute_result"
    }
   ],
   "source": [
    "import lmql\n",
    "import pandas as pd\n",
    "\n",
    "@lmql.query\n",
    "async def generate_dogs(n: int):\n",
    "    '''lmql\n",
    "    sample(n=n)\n",
    "        \"\"\"Generate a dog with the following characteristics:\n",
    "        Name:[NAME]\n",
    "        Age: [AGE]\n",
    "        Breed:[BREED]\n",
    "        Quirky Move:[MOVE]\n",
    "        \"\"\"\n",
    "    from\n",
    "        \"openai/text-davinci-003\"\n",
    "    where\n",
    "        STOPS_BEFORE(NAME, \"\\n\") and STOPS_BEFORE(BREED, \"\\n\") and \n",
    "        STOPS_BEFORE(MOVE, \"\\n\") and INT(AGE) and len(AGE) < 3\n",
    "    '''\n",
    "\n",
    "result = await generate_dogs(8)\n",
    "df = pd.DataFrame([r.variables for r in result])\n",
    "df"
   ]
  },
  {
   "attachments": {},
   "cell_type": "markdown",
   "metadata": {},
   "source": [
    "Note how we sample multiple sequences (i.e. dog instances) using the `sample(n=n)` decoder configuration. The returned `result` is a list of `lmql.LMQLResult` objects (see [Python integration](./python.ipynb)), which we can easily convert to a `pandas.DataFrame` by accessing `r.variables` on each item.\n",
    "\n",
    "In the query, we use [scripted prompting](../language/scripted_prompts.md) and [constraints](../language/constraints.md) to make sure the generated dog samples are valid and each provides the necessary attributes for name, age, breed, and move.\n",
    "\n",
    "Having the resulting values for LMQL template variables `NAME`, `AGE`, `BREED`, and `MOVE` in a `pandas.DataFrame`, makes it easy to apply\n",
    "further processing and work with the generated data. For instance, we can easily determine the average age of the generated dogs:"
   ]
  },
  {
   "cell_type": "code",
   "execution_count": 10,
   "metadata": {},
   "outputs": [
    {
     "data": {
      "text/plain": [
       "6.0"
      ]
     },
     "execution_count": 10,
     "metadata": {},
     "output_type": "execute_result"
    }
   ],
   "source": [
    "# determine average age\n",
    "df[\"AGE\"].mean()"
   ]
  },
  {
   "attachments": {},
   "cell_type": "markdown",
   "metadata": {},
   "source": [
    "Note how the `INT(AGE)` constraints automatically converted the `AGE` values to integers, which makes the generated `AGE` values automatically amendable to arithmetic operations such as `mean()`."
   ]
  },
  {
   "attachments": {},
   "cell_type": "markdown",
   "metadata": {},
   "source": [
    "Based on this tabular representation, it is now also easy to filter and aggregate the data. For instance, we can easily determine the average age of the generated dogs per breed:"
   ]
  },
  {
   "cell_type": "code",
   "execution_count": 9,
   "metadata": {},
   "outputs": [
    {
     "data": {
      "text/plain": [
       "BREED\n",
       " Alaskan Malamute               8.0\n",
       " Dachshund                      6.0\n",
       " Golden Retriever               5.0\n",
       " Jack Russell Terrier           6.0\n",
       " Labrador Retriever             5.0\n",
       " Shetland Sheepdog              3.0\n",
       " Wirehaired Pointing Griffon    7.0\n",
       "Name: AGE, dtype: float64"
      ]
     },
     "execution_count": 9,
     "metadata": {},
     "output_type": "execute_result"
    }
   ],
   "source": [
    "# group df by BREED and compute the average age for each breed\n",
    "df.groupby(\"BREED\")[\"AGE\"].mean()"
   ]
  }
 ],
 "metadata": {
  "kernelspec": {
   "display_name": "lmql",
   "language": "python",
   "name": "python3"
  },
  "language_info": {
   "codemirror_mode": {
    "name": "ipython",
    "version": 3
   },
   "file_extension": ".py",
   "mimetype": "text/x-python",
   "name": "python",
   "nbconvert_exporter": "python",
   "pygments_lexer": "ipython3",
   "version": "3.10.10"
  },
  "orig_nbformat": 4
 },
 "nbformat": 4,
 "nbformat_minor": 2
}
