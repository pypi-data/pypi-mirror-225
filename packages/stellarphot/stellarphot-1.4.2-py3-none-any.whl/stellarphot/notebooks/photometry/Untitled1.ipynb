{
 "cells": [
  {
   "cell_type": "code",
   "execution_count": 11,
   "id": "4cdceada-0fa2-4347-9a8b-d8d8649ade96",
   "metadata": {},
   "outputs": [
    {
     "data": {
      "application/vnd.jupyter.widget-view+json": {
       "model_id": "3ec6af4aaf814364834bfeabbc02409b",
       "version_major": 2,
       "version_minor": 0
      },
      "text/plain": [
       "IntSlider(value=0, max=1)"
      ]
     },
     "metadata": {},
     "output_type": "display_data"
    }
   ],
   "source": [
    "import ipywidgets\n",
    "sl = ipywidgets.IntSlider(min=0, max=1)\n",
    "display(sl)\n",
    "with sl.hold_trait_notifications():\n",
    "    sl.min = 2\n",
    "    sl.max = 4\n",
    "    \n",
    "sl.value = 3"
   ]
  },
  {
   "cell_type": "code",
   "execution_count": 6,
   "id": "afb5b084-e038-40cd-947a-adad25530e4e",
   "metadata": {},
   "outputs": [],
   "source": [
    "sl.value = 3"
   ]
  },
  {
   "cell_type": "code",
   "execution_count": 8,
   "id": "f90be152-24c6-4188-8533-04388c9b5144",
   "metadata": {},
   "outputs": [
    {
     "data": {
      "application/vnd.jupyter.widget-view+json": {
       "model_id": "4c0c75b30d774b77a3d146e46400edc5",
       "version_major": 2,
       "version_minor": 0
      },
      "text/plain": [
       "IntSlider(value=2, max=3, min=2)"
      ]
     },
     "metadata": {},
     "output_type": "display_data"
    }
   ],
   "source": [
    "import ipywidgets\n",
    "sl = ipywidgets.IntSlider(min=0, max=1)\n",
    "#display(sl)\n",
    "with sl.hold_trait_notifications():\n",
    "    sl.min = 2\n",
    "    sl.max = 3\n",
    "display(sl)"
   ]
  },
  {
   "cell_type": "code",
   "execution_count": 9,
   "id": "e41efe79-3ec8-4688-aaf9-45e98d2dbf46",
   "metadata": {},
   "outputs": [],
   "source": [
    "with sl.hold_trait_notifications():\n",
    "    sl.min = 4\n",
    "    sl.max = 5"
   ]
  },
  {
   "cell_type": "code",
   "execution_count": null,
   "id": "35432510-c5c0-409a-80b9-ac7e63522b78",
   "metadata": {},
   "outputs": [],
   "source": []
  }
 ],
 "metadata": {
  "kernelspec": {
   "display_name": "Python 3 (ipykernel)",
   "language": "python",
   "name": "python3"
  },
  "language_info": {
   "codemirror_mode": {
    "name": "ipython",
    "version": 3
   },
   "file_extension": ".py",
   "mimetype": "text/x-python",
   "name": "python",
   "nbconvert_exporter": "python",
   "pygments_lexer": "ipython3",
   "version": "3.10.6"
  }
 },
 "nbformat": 4,
 "nbformat_minor": 5
}
