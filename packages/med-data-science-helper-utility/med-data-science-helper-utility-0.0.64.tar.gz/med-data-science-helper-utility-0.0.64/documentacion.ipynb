{
 "cells": [
  {
   "cell_type": "code",
   "execution_count": 1,
   "metadata": {},
   "outputs": [],
   "source": [
    "import pandas as pd\n",
    "from med_data_science_helper import helper_acces_db as hadb\n"
   ]
  },
  {
   "cell_type": "code",
   "execution_count": 3,
   "metadata": {},
   "outputs": [
    {
     "name": "stdout",
     "output_type": "stream",
     "text": [
      "{'lima_provincias': ['DRE LIMA PROVINCIAS'], 'lima_metro_callao': ['DRE LIMA METROPOLITANA', 'DRE CALLAO'], 'norte': ['DRE ANCASH', 'DRE CAJAMARCA', 'DRE LA LIBERTAD', 'DRE LAMBAYEQUE', 'DRE PIURA', 'DRE TUMBES'], 'sur': ['DRE AREQUIPA', 'DRE CUSCO', 'DRE MADRE DE DIOS', 'DRE MOQUEGUA', 'DRE PUNO', 'DRE TACNA'], 'centro': ['DRE APURIMAC', 'DRE AYACUCHO', 'DRE HUANCAVELICA', 'DRE HUANUCO', 'DRE JUNIN', 'DRE PASCO', 'DRE ICA'], 'oriente': ['DRE AMAZONAS', 'DRE LORETO', 'DRE SAN MARTIN', 'DRE UCAYALI']}\n"
     ]
    }
   ],
   "source": [
    "# GET_MACRO_REGION\n",
    "\n",
    "\n",
    "MACRO_REGIONES = hadb.get_macro_regiones()\n",
    "print(MACRO_REGIONES)\n",
    "\n",
    "\n",
    "# Set MACRO REGION\n",
    "# base_path = \"D:/GNC/Noviembre/Documentacion/New_Base.txt\"\n",
    "# hadb.set_macro_region(base_path)\n",
    "\n",
    "# hadb.MR_File_Name"
   ]
  },
  {
   "cell_type": "code",
   "execution_count": 7,
   "metadata": {},
   "outputs": [
    {
     "name": "stdout",
     "output_type": "stream",
     "text": [
      "Regiones Norte: ['DRE ANCASH', 'DRE CAJAMARCA', 'DRE LA LIBERTAD', 'DRE LAMBAYEQUE', 'DRE PIURA', 'DRE TUMBES']\n",
      "Regiones Oriente: ['DRE AMAZONAS', 'DRE LORETO', 'DRE SAN MARTIN', 'DRE UCAYALI']\n"
     ]
    }
   ],
   "source": [
    "\n",
    "REGIONES = hadb.get_macro_region(\"norte\")\n",
    "print(f\"Regiones Norte: {REGIONES}\")\n",
    "\n",
    "REGIONES = hadb.get_macro_region(\"oriente\")\n",
    "print(f\"Regiones Oriente: {REGIONES}\")\n",
    "\n"
   ]
  },
  {
   "cell_type": "code",
   "execution_count": 11,
   "metadata": {},
   "outputs": [
    {
     "name": "stdout",
     "output_type": "stream",
     "text": [
      "{'lima': ['DRE LIMA PROVINCIAS', 'DRE LIMA METROPOLITANA', 'DRE CALLAO'], 'norte': ['DRE ANCASH', 'DRE CAJAMARCA', 'DRE LA LIBERTAD', 'DRE LAMBAYEQUE', 'DRE PIURA', 'DRE TUMBES', 'DRE AMAZONAS'], 'sur': ['DRE AREQUIPA', 'DRE CUSCO', 'DRE MADRE DE DIOS', 'DRE MOQUEGUA', 'DRE PUNO', 'DRE TACNA'], 'centro': ['DRE APURIMAC', 'DRE AYACUCHO', 'DRE HUANCAVELICA', 'DRE HUANUCO', 'DRE JUNIN', 'DRE PASCO', 'DRE ICA']}\n"
     ]
    }
   ],
   "source": [
    "\n",
    "hadb.set_macro_region(\"macroregionesprueba.txt\")\n",
    "\n",
    "MACRO_REGIONES = hadb.get_macro_regiones()\n",
    "print(MACRO_REGIONES)\n",
    "\n",
    "\n"
   ]
  },
  {
   "cell_type": "code",
   "execution_count": 12,
   "metadata": {},
   "outputs": [
    {
     "name": "stdout",
     "output_type": "stream",
     "text": [
      "Ruta de la Base de datos o Fuente de datos: E:\\PROYECTOS\\med-data-warehouse-structure\\src\n"
     ]
    }
   ],
   "source": [
    "\n",
    "BD_PATH = hadb.get_path_BD()\n",
    "\n",
    "print(f\"Ruta de la Base de datos o Fuente de datos: {BD_PATH}\")\n",
    "\n",
    "\n"
   ]
  },
  {
   "cell_type": "code",
   "execution_count": 8,
   "metadata": {},
   "outputs": [
    {
     "name": "stdout",
     "output_type": "stream",
     "text": [
      "Ruta de la Base de datos o Fuente de datos GIAGIE: \n",
      " * E:\\PROYECTOS\\med-data-warehouse-structure\\src\\01.SIAGIE\\_data_\\sin_procesar\n"
     ]
    }
   ],
   "source": [
    "\n",
    "BD_PATH = hadb.get_path_BD_siagie_sin_procesar()\n",
    "\n",
    "print(f\"Ruta de la Base de datos o Fuente de datos GIAGIE: \\n * {BD_PATH}\")\n",
    "\n",
    "\n"
   ]
  },
  {
   "cell_type": "code",
   "execution_count": 20,
   "metadata": {},
   "outputs": [
    {
     "name": "stdout",
     "output_type": "stream",
     "text": [
      "Shape del DataFrame de prueba JUNTOS: \n",
      " * (233671, 16)\n"
     ]
    }
   ],
   "source": [
    "\n",
    "BD_JUNTOS = hadb.get_juntos(anio=2022, cache=False)\n",
    "\n",
    "print(f\"Shape del DataFrame de prueba JUNTOS: \\n * {BD_JUNTOS.shape}\")\n"
   ]
  },
  {
   "cell_type": "markdown",
   "metadata": {},
   "source": []
  }
 ],
 "metadata": {
  "kernelspec": {
   "display_name": "venvMedStudDropoutPred",
   "language": "python",
   "name": "python3"
  },
  "language_info": {
   "codemirror_mode": {
    "name": "ipython",
    "version": 3
   },
   "file_extension": ".py",
   "mimetype": "text/x-python",
   "name": "python",
   "nbconvert_exporter": "python",
   "pygments_lexer": "ipython3",
   "version": "3.7.9"
  },
  "orig_nbformat": 4,
  "vscode": {
   "interpreter": {
    "hash": "2295383f71d7ac635aca13e3aa84bcda2cad5166552117b573eaa59f4bcf7db7"
   }
  }
 },
 "nbformat": 4,
 "nbformat_minor": 2
}
