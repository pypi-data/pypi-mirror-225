{
 "cells": [
  {
   "cell_type": "markdown",
   "metadata": {},
   "source": [
    "# QuMADA tutorial "
   ]
  },
  {
   "cell_type": "markdown",
   "metadata": {},
   "source": [
    "## Enter Metadata and handle metadata"
   ]
  },
  {
   "cell_type": "markdown",
   "metadata": {},
   "source": [
    "### Situation\n",
    "\n",
    "We got a new device, we want to do a measurement on. These are the steps to enter the metadata\n",
    "\n",
    "1. Add the device to the Metadatabase\n",
    "2. Create metadata for the measurement\n",
    "3. Setup the measurement\n",
    "4. Run the measurement\n",
    "\n",
    "**Remarks:**\n",
    "\n",
    "- Steps 1. and 2. can also be done in one step\n",
    "\n",
    "- During steps 3 and 4, more metadata is gathered with QuMADA."
   ]
  },
  {
   "cell_type": "markdown",
   "metadata": {},
   "source": [
    "### Add device to Metadatabase\n",
    "\n",
    "Here, we create new metadata for the device, incorporate existing layouts, factories, etc. and save the metadata to the DB.\n",
    "\n",
    "The helper function guides us through the creation of the metadata."
   ]
  },
  {
   "cell_type": "code",
   "execution_count": null,
   "metadata": {},
   "outputs": [],
   "source": [
    "from qtools_metadata.metadata import create_metadata_object\n",
    "from qtools_metadata.device import Device\n",
    "\n",
    "# Pass Device as argument, to create only the device\n",
    "device = create_metadata_object(Device)"
   ]
  },
  {
   "cell_type": "code",
   "execution_count": null,
   "metadata": {},
   "outputs": [],
   "source": [
    "device"
   ]
  },
  {
   "cell_type": "code",
   "execution_count": null,
   "metadata": {},
   "outputs": [],
   "source": [
    "from qtools_metadata.metadata import save_metadata_object_to_db\n",
    "save_metadata_object_to_db(device)\n",
    "print(device.pid)"
   ]
  },
  {
   "cell_type": "markdown",
   "metadata": {},
   "source": [
    "### Create metadata for the measurement\n",
    "\n",
    "To create a complete Metadata set for a measurement, the same helper function is used."
   ]
  },
  {
   "cell_type": "code",
   "execution_count": null,
   "metadata": {},
   "outputs": [],
   "source": [
    "from qtools_metadata.metadata import create_metadata_object, Metadata\n",
    "\n",
    "# create_metadata_object() is synonymous\n",
    "metadata = create_metadata_object(Metadata)"
   ]
  },
  {
   "cell_type": "code",
   "execution_count": null,
   "metadata": {},
   "outputs": [],
   "source": [
    "metadata"
   ]
  },
  {
   "cell_type": "code",
   "execution_count": null,
   "metadata": {},
   "outputs": [],
   "source": [
    "# save metadata to YAML file for future use\n",
    "with open(\"metadata.yaml\", \"w\") as f:\n",
    "    metadata.to_yaml(f)"
   ]
  },
  {
   "cell_type": "code",
   "execution_count": null,
   "metadata": {},
   "outputs": [],
   "source": [
    "metadata.measurement.name = \"mynewmeasurement\""
   ]
  },
  {
   "cell_type": "code",
   "execution_count": null,
   "metadata": {},
   "outputs": [],
   "source": [
    "from qtools_metadata.metadata import Metadata\n",
    "\n",
    "# Load metadata template from YAML file\n",
    "with open(\"metadata.yaml\", \"r\") as f:\n",
    "    metadata: Metadata = Metadata.from_yaml(f)"
   ]
  },
  {
   "cell_type": "markdown",
   "metadata": {},
   "source": [
    "### Setup the measurement"
   ]
  },
  {
   "cell_type": "code",
   "execution_count": null,
   "metadata": {},
   "outputs": [],
   "source": [
    "import yaml\n",
    "from qcodes.station import Station\n",
    "from qcodes_contrib_drivers.drivers.QDevil.QDAC1 import QDac\n",
    "from qumada.instrument.custom_drivers.ZI.MFLI import MFLI\n",
    "from qumada.instrument.mapping import (\n",
    "    \n",
    "    \n",
    "    add_mapping_to_instrument,\n",
    "    MFLI_MAPPING,\n",
    "    QDAC_MAPPING)\n",
    "from qumada.instrument.mapping.base import map_gates_to_instruments\n",
    "from qumada.measurement.scripts import (\n",
    "    Generic_1D_Sweep,\n",
    "    Generic_nD_Sweep,\n",
    "    Generic_1D_parallel_Sweep,\n",
    "    Timetrace,\n",
    "    Timetrace_with_sweeps)\n",
    "from qumada.utils.load_from_sqlite_db import load_db\n",
    "from qumada.utils.generate_sweeps import generate_sweep, replace_parameter_settings, update_parameter_settings\n",
    "from qumada.utils.ramp_parameter import *\n",
    "from qcodes.dataset import load_or_create_experiment"
   ]
  },
  {
   "cell_type": "code",
   "execution_count": null,
   "metadata": {},
   "outputs": [],
   "source": [
    "# Setup qcodes station\n",
    "station = Station()\n",
    "\n",
    "qdac = QDac(\"qdac\", \"ASRL5::INSTR\")\n",
    "add_mapping_to_instrument(qdac, QDAC_MAPPING)\n",
    "station.add_component(qdac)\n",
    "\n",
    "lockin = MFLI(\"lockin\", \"DEV4039\")#, serverhost = \"192.168.1.142\")\n",
    "add_mapping_to_instrument(lockin, MFLI_MAPPING)\n",
    "station.add_component(lockin)\n"
   ]
  },
  {
   "cell_type": "code",
   "execution_count": null,
   "metadata": {},
   "outputs": [],
   "source": [
    "load_db()\n"
   ]
  },
  {
   "cell_type": "code",
   "execution_count": null,
   "metadata": {},
   "outputs": [],
   "source": [
    "load_or_create_experiment(experiment_name = metadata.measurement.series.name,\n",
    "                          sample_name = f\"{metadata.measurement.device.sample.name}_{metadata.measurement.device.name}\")"
   ]
  },
  {
   "cell_type": "code",
   "execution_count": null,
   "metadata": {},
   "outputs": [],
   "source": [
    "with open(\"C:/Users/lab/Documents/Measurements/Huckemann/Settings/QBus.yaml\", \"r\") as file:\n",
    "    parameters = yaml.safe_load(file)\n",
    "replace_parameter_settings(parameters, \"setpoints\", generate_sweep(0.8, 1.5, 150))\n",
    "parameters"
   ]
  },
  {
   "cell_type": "code",
   "execution_count": null,
   "metadata": {},
   "outputs": [],
   "source": [
    "script1 = Generic_1D_parallel_Sweep()\n",
    "script1.setup(parameters, metadata, backsweep_after_break = True, ramp_time = 0.5)"
   ]
  },
  {
   "cell_type": "code",
   "execution_count": null,
   "metadata": {},
   "outputs": [],
   "source": [
    "map_gates_to_instruments(station.components, script1.gate_parameters)"
   ]
  },
  {
   "cell_type": "markdown",
   "metadata": {},
   "source": [
    "**Save mapping for future use...**"
   ]
  },
  {
   "cell_type": "code",
   "execution_count": null,
   "metadata": {},
   "outputs": [],
   "source": [
    "mapping = script1.gate_parameters"
   ]
  },
  {
   "cell_type": "markdown",
   "metadata": {},
   "source": [
    "### Run the measurement\n",
    "\n",
    "Metadata is saved automatically to the DB."
   ]
  },
  {
   "cell_type": "code",
   "execution_count": null,
   "metadata": {},
   "outputs": [],
   "source": [
    "from qumada.utils.GUI import *\n",
    "open_web_gui(script1)"
   ]
  },
  {
   "cell_type": "code",
   "execution_count": null,
   "metadata": {},
   "outputs": [],
   "source": [
    "script1.run()"
   ]
  },
  {
   "cell_type": "markdown",
   "metadata": {},
   "source": [
    "### Access Measurements metadata"
   ]
  },
  {
   "cell_type": "code",
   "execution_count": null,
   "metadata": {
    "scrolled": false
   },
   "outputs": [],
   "source": [
    "from pprint import pprint\n",
    "from qtools_metadata.measurement import Measurement\n",
    "measurements = [meas for meas in Measurement.get_all() if meas.device.sample.name == \"12-2\"]\n",
    "pprint(measurements)"
   ]
  },
  {
   "cell_type": "markdown",
   "metadata": {},
   "source": [
    "### Load metadata from YAML"
   ]
  },
  {
   "cell_type": "code",
   "execution_count": null,
   "metadata": {},
   "outputs": [],
   "source": [
    "from pprint import pprint\n",
    "from qtools_metadata.metadata import Metadata\n",
    "\n",
    "# Load metadata template from YAML file\n",
    "with open(\"metadata.yaml\", \"r\") as f:\n",
    "    metadata: Metadata = Metadata.from_yaml(f)\n",
    "\n",
    "# Change some stuff\n",
    "metadata.measurement.name = \"Gate Pinchoffs\"\n",
    "#metadata.measurement.comments = \"a second measurement\"\n",
    "\n",
    "# Next measurement..."
   ]
  },
  {
   "cell_type": "markdown",
   "metadata": {},
   "source": [
    "### 2nd Measurement"
   ]
  },
  {
   "cell_type": "code",
   "execution_count": null,
   "metadata": {},
   "outputs": [],
   "source": [
    "with open(\"C:/Users/lab/Documents/Measurements/Huckemann/Settings/QuBus_pinchoffs.yaml\", \"r\") as file:\n",
    "    parameters = yaml.safe_load(file)\n",
    "replace_parameter_settings(parameters, \"setpoints\", generate_sweep(1.18, 0, 200, include_backward=True))"
   ]
  },
  {
   "cell_type": "code",
   "execution_count": null,
   "metadata": {},
   "outputs": [],
   "source": [
    "script2 = Generic_1D_Sweep()\n",
    "script2.setup(parameters, metadata, ramp_time = 0.5)"
   ]
  },
  {
   "cell_type": "code",
   "execution_count": null,
   "metadata": {},
   "outputs": [],
   "source": [
    "map_gates_to_instruments(station.components, script2.gate_parameters, map_manually=True)"
   ]
  },
  {
   "cell_type": "code",
   "execution_count": null,
   "metadata": {},
   "outputs": [],
   "source": [
    "script2.run()"
   ]
  },
  {
   "cell_type": "code",
   "execution_count": null,
   "metadata": {},
   "outputs": [],
   "source": []
  }
 ],
 "metadata": {
  "kernelspec": {
   "display_name": "Python 3 (ipykernel)",
   "language": "python",
   "name": "python3"
  },
  "language_info": {
   "codemirror_mode": {
    "name": "ipython",
    "version": 3
   },
   "file_extension": ".py",
   "mimetype": "text/x-python",
   "name": "python",
   "nbconvert_exporter": "python",
   "pygments_lexer": "ipython3",
   "version": "3.11.0"
  },
  "vscode": {
   "interpreter": {
    "hash": "3d62f097c6426db79933631857d272b2d378491596086f7638fdd8c163fc898b"
   }
  }
 },
 "nbformat": 4,
 "nbformat_minor": 2
}
