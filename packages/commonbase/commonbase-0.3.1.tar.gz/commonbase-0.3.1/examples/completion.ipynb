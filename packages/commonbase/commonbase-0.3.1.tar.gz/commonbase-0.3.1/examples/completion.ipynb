{
  "cells": [
    {
      "cell_type": "markdown",
      "metadata": {},
      "source": [
        "## Installation\n",
        "\n",
        "Use pip to install the Commonbase Python SDK"
      ]
    },
    {
      "cell_type": "code",
      "execution_count": null,
      "metadata": {
        "vscode": {
          "languageId": "shellscript"
        }
      },
      "outputs": [],
      "source": [
        "pip install commonbase"
      ]
    },
    {
      "cell_type": "markdown",
      "metadata": {},
      "source": [
        "## Usage"
      ]
    },
    {
      "cell_type": "markdown",
      "metadata": {},
      "source": [
        "A Project ID and API Key are required for all Commonbase requests. You can find your project ID and generate an API key in the [Commonbase Dashboard](https://commonbase.com/).\n",
        "\n",
        "To create a completion, provide your Project ID, API Key, and prompt to `Completion.create`."
      ]
    },
    {
      "cell_type": "code",
      "execution_count": null,
      "metadata": {},
      "outputs": [],
      "source": [
        "import commonbase\n",
        "\n",
        "result = commonbase.Completion.create(\n",
        "    api_key=\"API_KEY\",\n",
        "    project_id=\"PROJECT_ID\", \n",
        "    prompt=\"Hello!\"\n",
        ")\n",
        "\n",
        "print(result.best_result)"
      ]
    },
    {
      "cell_type": "markdown",
      "metadata": {},
      "source": [
        "Use `Completion.stream` to stream a completion response."
      ]
    },
    {
      "cell_type": "code",
      "execution_count": null,
      "metadata": {},
      "outputs": [],
      "source": [
        "import commonbase\n",
        "\n",
        "result = commonbase.Completion.stream(\n",
        "    api_key=\"API_KEY\",\n",
        "    project_id=\"PROJECT_ID\", \n",
        "    prompt=\"Write me a short essay about artificial intelligence.\"\n",
        ")\n",
        "\n",
        "for completion in result:\n",
        "    if not completion.completed:\n",
        "        print(completion.best_result, end=\"\")\n",
        "    else:\n",
        "        # The final response from the stream contains the full completion text.\n",
        "        # We can ignore it here because we already printed the intermediate results.\n",
        "        print(\"\\n\\ndone\")"
      ]
    },
    {
      "cell_type": "markdown",
      "metadata": {},
      "source": [
        "### Variables\n",
        "\n",
        "You can also create a completion by providing variables for your managed prompt on the [Commonbase Dashboard](https://commonbase.com/)."
      ]
    },
    {
      "cell_type": "code",
      "execution_count": null,
      "metadata": {},
      "outputs": [],
      "source": [
        "import commonbase\n",
        "\n",
        "result = commonbase.Completion.create(\n",
        "    api_key=\"API_KEY\",\n",
        "    project_id=\"PROJECT_ID\",\n",
        "    prompt=\"A new user {{user_name}} just signed up with {{email}}. Say hello!\", \n",
        "    variables={\n",
        "        \"user_name\": \"USERNAME\",\n",
        "        \"email\": \"USERNAME@COMPANY.COM\"\n",
        "    }\n",
        ")\n",
        "\n",
        "print(result.best_result)"
      ]
    },
    {
      "cell_type": "markdown",
      "metadata": {},
      "source": [
        "### Chat\n",
        "\n",
        "To create a chat completion, use the `chat_context` argument to provide a list of chat messages.\n",
        "You must also set the OpenAI configuration to `chat`. In this mode, the `prompt` argument\n",
        "functions as a system message."
      ]
    },
    {
      "cell_type": "code",
      "execution_count": null,
      "metadata": {},
      "outputs": [],
      "source": [
        "import commonbase\n",
        "\n",
        "result = commonbase.Completion.create(\n",
        "    api_key=\"API_KEY\",\n",
        "    project_id=\"PROJECT_ID\", \n",
        "    prompt=\"You are an assistant who helps users with tech problems.\",\n",
        "    chat_context=commonbase.ChatContext([\n",
        "        commonbase.ChatMessage(role=\"user\", content=\"My internet isn't working.\"),\n",
        "        commonbase.ChatMessage(role=\"assistant\", content=\"Have you tried restarting your router?\"),\n",
        "        commonbase.ChatMessage(role=\"user\", content=\"Yes I've tried that.\"),\n",
        "    ]),\n",
        "    provider_config=commonbase.ProviderConfig(\n",
        "        provider=\"cb-openai-eu\", params=commonbase.OpenAIParams(type=\"chat\")\n",
        "    ),\n",
        ")\n",
        "\n",
        "print(result.best_result)"
      ]
    }
  ],
  "metadata": {
    "kernelspec": {
      "display_name": "Python 3",
      "language": "python",
      "name": "python3"
    },
    "language_info": {
      "codemirror_mode": {
        "name": "ipython",
        "version": 3
      },
      "file_extension": ".py",
      "mimetype": "text/x-python",
      "name": "python",
      "nbconvert_exporter": "python",
      "pygments_lexer": "ipython3",
      "version": "3.11.4"
    },
    "orig_nbformat": 4
  },
  "nbformat": 4,
  "nbformat_minor": 2
}
