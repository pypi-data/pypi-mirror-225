{
  "cells": [
    {
      "cell_type": "markdown",
      "metadata": {},
      "source": [
        "## Installation\n",
        "\n",
        "Use pip to install the Commonbase Python SDK"
      ]
    },
    {
      "cell_type": "code",
      "execution_count": null,
      "metadata": {
        "vscode": {
          "languageId": "shellscript"
        }
      },
      "outputs": [],
      "source": [
        "pip install commonbase"
      ]
    },
    {
      "cell_type": "markdown",
      "metadata": {},
      "source": [
        "## Usage\n"
      ]
    },
    {
      "cell_type": "markdown",
      "metadata": {},
      "source": [
        "A Project ID and API Key are required for all Commonbase requests. You can find your project ID and generate an API key in the [Commonbase Dashboard](https://commonbase.com/).\n",
        "\n",
        "### Functions\n",
        "\n",
        "To use OpenAI's [Function Calling](https://platform.openai.com/docs/guides/gpt/function-calling) feature with Commonbase, make a call to `ChatCompletion.create` and provide a list of functions. It is very similar to using the OpenAI SDK."
      ]
    },
    {
      "cell_type": "code",
      "execution_count": 3,
      "metadata": {},
      "outputs": [
        {
          "name": "stdout",
          "output_type": "stream",
          "text": [
            "According to current weather data, the temperature in Boston, MA is 72°F and the forecast is sunny and windy.\n"
          ]
        }
      ],
      "source": [
        "import commonbase\n",
        "import json\n",
        "\n",
        "# In Production, you'd call a real weather API.\n",
        "def get_current_weather(location: str, unit: str = \"fahrenheit\"):\n",
        "    return {\n",
        "        \"location\": location,\n",
        "        \"temperature\": 72,\n",
        "        \"unit\": unit,\n",
        "        \"forecast\": [\"sunny\", \"windy\"]\n",
        "    }\n",
        "\n",
        "messages: list[commonbase.ChatMessage] = [\n",
        "    { \"role\": \"user\", \"content\": \"What's the weather like in Boston?\" }\n",
        "]\n",
        "\n",
        "response = commonbase.ChatCompletion.create(\n",
        "    api_key=\"API_KEY\",\n",
        "    project_id=\"PROJECT_ID\", \n",
        "    messages=messages,\n",
        "    functions=[\n",
        "        {\n",
        "            \"name\": \"get_current_weather\",\n",
        "            \"description\": \"Get the current weather in a given location\",\n",
        "            \"parameters\": {\n",
        "                \"type\": \"object\",\n",
        "                \"properties\": {\n",
        "                    \"location\": {\n",
        "                        \"type\": \"string\",\n",
        "                        \"description\": \"The city and state, e.g. San Francisco, CA\",\n",
        "                    },\n",
        "                    \"unit\": {\"type\": \"string\", \"enum\": [\"celsius\", \"fahrenheit\"]},\n",
        "                },\n",
        "                \"required\": [\"location\"],\n",
        "            },\n",
        "        }\n",
        "    ]\n",
        ")\n",
        "\n",
        "best_choice = response.best_choice\n",
        "\n",
        "# Check if GPT wanted to call a function\n",
        "if (best_choice.function_call is not None):\n",
        "\n",
        "    function_name = best_choice.function_call.name\n",
        "\n",
        "    # The Commonbase SDK deserializes the arguments for you, though it may not always be valid JSON.\n",
        "    # If the arguments are empty, check function_call.json[\"arguments\"] to see the raw response from GPT.\n",
        "    function_arguments = best_choice.function_call.arguments\n",
        "    location, unit = function_arguments.get(\"location\"), function_arguments.get(\"unit\")\n",
        "\n",
        "    # Only one function in this example, but you can have multiple.\n",
        "    available_functions = {\n",
        "        \"get_current_weather\": get_current_weather\n",
        "    }   \n",
        "\n",
        "    function_response = available_functions[function_name](location, unit)\n",
        "\n",
        "    # Extend the conversation with the assistant's reply.\n",
        "    messages.append(response.best_choice.to_assistant_chat_message())\n",
        "\n",
        "    # Extend the conversation with the function response.\n",
        "    messages.append({\n",
        "        \"role\": \"function\",\n",
        "        \"name\": function_name,\n",
        "        \"content\": json.dumps(function_response)\n",
        "    })\n",
        "\n",
        "    # Get a new response from GPT where it can see the function response.\n",
        "    second_response = commonbase.ChatCompletion.create(\n",
        "        api_key=\"API_KEY\",\n",
        "        project_id=\"PROJECT_ID\", \n",
        "        messages=messages\n",
        "    )\n",
        "\n",
        "    print(second_response.best_choice.text)"
      ]
    }
  ],
  "metadata": {
    "kernelspec": {
      "display_name": "Python 3",
      "language": "python",
      "name": "python3"
    },
    "language_info": {
      "codemirror_mode": {
        "name": "ipython",
        "version": 3
      },
      "file_extension": ".py",
      "mimetype": "text/x-python",
      "name": "python",
      "nbconvert_exporter": "python",
      "pygments_lexer": "ipython3",
      "version": "3.11.4"
    },
    "orig_nbformat": 4
  },
  "nbformat": 4,
  "nbformat_minor": 2
}
